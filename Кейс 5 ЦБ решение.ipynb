{
 "cells": [
  {
   "cell_type": "markdown",
   "id": "47d48283",
   "metadata": {},
   "source": [
    "## Команда Dark Brotherhood"
   ]
  },
  {
   "cell_type": "code",
   "execution_count": 366,
   "id": "3391e0a5",
   "metadata": {},
   "outputs": [],
   "source": [
    "import pandas as pd\n",
    "import numpy as np\n",
    "import re\n",
    "from sklearn.preprocessing import LabelEncoder\n",
    "from sklearn.feature_extraction.text import TfidfVectorizer\n",
    "from sklearn.model_selection import train_test_split\n",
    "from sklearn.metrics import f1_score, classification_report, confusion_matrix, ConfusionMatrixDisplay\n",
    "from sklearn.cluster import KMeans, AgglomerativeClustering, DBSCAN\n",
    "from catboost import CatBoostClassifier\n",
    "from sklearn.ensemble import IsolationForest\n",
    "from prophet import Prophet\n",
    "import yake\n",
    "\n",
    "from tqdm.notebook import tqdm\n",
    "tqdm.pandas()\n",
    "\n",
    "import seaborn as sns\n",
    "%matplotlib inline\n",
    "import matplotlib.pyplot as plt"
   ]
  },
  {
   "cell_type": "code",
   "execution_count": 3,
   "id": "0026365b",
   "metadata": {},
   "outputs": [],
   "source": [
    "#обработка текста\n",
    "import nltk\n",
    "#nltk.download('stopwords')\n",
    "import spacy\n",
    "#python -m spacy download ru_core_news_md\n",
    "\n",
    "#загружаем текстовые модели\n",
    "stopwords_nltk = nltk.corpus.stopwords.words('russian')  #лист русский стоп-слов\n",
    "stopwords_nltk_en = nltk.corpus.stopwords.words('english')\n",
    "stopwords_nltk.extend(stopwords_nltk_en)  #часть текста а английском\n",
    "\n",
    "lemmatizer = spacy.load('ru_core_news_md', disable = ['parser', 'ner'])"
   ]
  },
  {
   "cell_type": "markdown",
   "id": "48642726",
   "metadata": {},
   "source": [
    "Дополнительные функции для обработки датасета"
   ]
  },
  {
   "cell_type": "code",
   "execution_count": 251,
   "id": "aba6369b",
   "metadata": {},
   "outputs": [],
   "source": [
    "# очищаем текст от мусора\n",
    "def full_clean(s):\n",
    "    #подготовка текста к подаче в модель\n",
    "    #удалим специальные символы, цифры (0-9), знаки пунктуации, приведем к строчным буквам\n",
    "    #оставим русские и английские буквы\n",
    "    s=re.sub(r\"[^a-zA-Zа-яА-Я#]\", \" \", s)  \n",
    "    s = s.lower() #все в нижний регистр\n",
    "    s = re.sub(\" +\", \" \", s) #оставляем только 1 пробел\n",
    "    text = \" \".join([token.lemma_ for token in lemmatizer(s) if token.lemma_ not in stopwords_nltk])\n",
    "    \n",
    "    return text\n",
    "\n",
    "\n",
    "def cats_featuring(train, test):\n",
    "    #не понятно, что обозначают 'Сервис', 'Система', 'Функциональная группа' и 'Место'\n",
    "    #система и сервис сильно коррелируют - вероятно это операционная система и ее функции\n",
    "    #приоритет связан с критичнгостью - это и так понятно, в остальных связь слабая\n",
    "    cats_col = ['Сервис', 'Система', \"Критичность\", \"Влияние\", \"Приоритет\", \"Тип обращения на момент подачи\",\n",
    "            \"Статус\", 'Место', \"Тип обращения итоговый\", 'Тип переклассификации']\n",
    "    test_cats = ['Сервис', 'Система', \"Критичность\", \"Влияние\", \"Приоритет\", \"Тип обращения на момент подачи\",\n",
    "             \"Статус\", 'Место']\n",
    "\n",
    "    cleanup_parts = {\"Сервис\": {\"АРМ\": \"0\", \"Сервис\": ''},\n",
    "                 \"Система\": {\"База\": \"0\", \"Система\": ''}}\n",
    "\n",
    "    cleanup_cats = {\"Критичность\": {\"4-Нет\": 4, \"3-Базовая\": 3, \"2-Повышенная\": 2, \"1-Особая\": 1},\n",
    "                \"Влияние\": {\"4-Нет влияния\": 4, \"3-Малое\": 3, \"2-Значительное\": 2, \"1-Всеохватывающее\": 1},\n",
    "                \"Приоритет\": {\"3-Низкий\": 4, \"2-Средний\": 3, \"1-Высокий\": 2, \"0-Критический\": 1},\n",
    "                \"Тип обращения на момент подачи\": {\"Запрос\": 1, \"Инцидент\": 0},\n",
    "                \"Тип обращения итоговый\": {\"Запрос\": 1, \"Инцидент\": 0},\n",
    "                \"Статус\": {\"Отменен\": 1, \"Закрыт\": 0}}\n",
    "    \n",
    "    #Кодируем Функциональные группы и места LabelEncoder\n",
    "\n",
    "    le = LabelEncoder()\n",
    "\n",
    "    le.fit(pd.concat([train[\"Функциональная группа\"], test[\"Функциональная группа\"]]))\n",
    "    train[\"Функциональная группа\"] = le.transform(train[\"Функциональная группа\"])\n",
    "    test[\"Функциональная группа\"] = le.transform(test[\"Функциональная группа\"])\n",
    "\n",
    "    le.fit(pd.concat([train[\"Место\"], test[\"Место\"]]))\n",
    "    train[\"Место\"] = le.transform(train[\"Место\"])\n",
    "    test[\"Место\"] = le.transform(test[\"Место\"])    \n",
    "    \n",
    "    #Кодируем остальные удалением текстовой части\n",
    "    train = train.replace(cleanup_parts, regex=True)\n",
    "    test = test.replace(cleanup_parts, regex=True)\n",
    "\n",
    "    train = train.replace(cleanup_cats)\n",
    "    test = test.replace(cleanup_cats)\n",
    "\n",
    "    train[cats_col] = train[cats_col].astype(int)\n",
    "    test[test_cats] = test[test_cats].astype(int)\n",
    "    \n",
    "    #подготовка текста\n",
    "    #заменим пропуски на слово тест\n",
    "    train['Содержание']=train['Содержание'].fillna(\"тест\")\n",
    "    f = lambda x: full_clean(x['Содержание']+\" \"+x['Решение             '])\n",
    "    \n",
    "    # Без стеминга, только лемматизация\n",
    "    train['request'] = train.progress_apply(f, axis=1)\n",
    "    test['request'] = test.progress_apply(f, axis=1)\n",
    "    \n",
    "    return train, test   "
   ]
  },
  {
   "cell_type": "code",
   "execution_count": 252,
   "id": "8e2f7d11",
   "metadata": {},
   "outputs": [],
   "source": [
    "def time_featuring(df):\n",
    "    #время между датой обращения и крайним сроком - когда сотрудник ждет решения\n",
    "    df['delta_plan']=(df['Крайний срок']-df['Дата обращения']).dt.days\n",
    "\n",
    "    #время между датой восстановления и датой обращения - когда сотрудник получил решение\n",
    "    df['delta_fact']=(df['Дата восстановления']-df['Дата обращения']).dt.days\n",
    "\n",
    "    #время между датой восстановления и крайним сроком - насколько ожидания совпали с реальностью\n",
    "    df['delta_real']=(train['Дата восстановления']-df['Крайний срок']).dt.days\n",
    "\n",
    "    #время между датой решения проблемы и закрытием тикета - время принятия работы или бюрократичские проволочки?\n",
    "    df['delta_wait']=(df['Дата закрытия обращения']-df['Дата восстановления']).dt.days\n",
    "    \n",
    "    #день недели и час, когда прошел инцидент или запрос (понедельник=0, поэтому +1)\n",
    "    df['weekday'] = df['Дата обращения'].dt.weekday + 1\n",
    "    df['hour'] = df['Дата обращения'].dt.hour\n",
    "    \n",
    "    return df"
   ]
  },
  {
   "cell_type": "code",
   "execution_count": 253,
   "id": "ed48fce8",
   "metadata": {},
   "outputs": [],
   "source": [
    "def tfidf_featuring(train, test):   \n",
    "    #преобразование текста\n",
    "    tfidf = TfidfVectorizer(ngram_range=(1, 2), \n",
    "                            max_features=500, analyzer='word', \n",
    "                            lowercase = True, #max_df = 0.25,\n",
    "                            sublinear_tf=True, )\n",
    "    X_tfidf = tfidf.fit_transform(train['request'])\n",
    "    test_tfidf = tfidf.transform(test['request'])\n",
    "    feature_names = tfidf.get_feature_names_out()\n",
    "    X_tfidf = pd.DataFrame(X_tfidf.toarray(), columns = feature_names, index = train.index)\n",
    "    test_tfidf = pd.DataFrame(test_tfidf.toarray(), columns = feature_names, index = test.index)\n",
    "    \n",
    "    return X_tfidf, test_tfidf"
   ]
  },
  {
   "cell_type": "code",
   "execution_count": 343,
   "id": "cafaf793",
   "metadata": {},
   "outputs": [],
   "source": [
    "def validation(X_valid, y_valid):\n",
    "    catc_valid = catc.predict(X_valid)\n",
    "    #расчет метрики\n",
    "    print(\"f1_macro: \", f1_score(y_valid, catc_valid, average='macro'))\n",
    "    print(classification_report(y_valid, catc_valid))\n",
    "    #матрица ошибок\n",
    "    cm = confusion_matrix(y_valid, catc_valid)#, normalize='true'\n",
    "    cm_display = ConfusionMatrixDisplay(cm).plot(colorbar=False, cmap=\"crest\")\n",
    "\n",
    "    #влияющие факторы\n",
    "    fea_imp = pd.DataFrame({'imp': catc.feature_importances_, 'col': train_concat.columns})\n",
    "    fea_imp = fea_imp.sort_values(['imp', 'col'], ascending=[True, False]).iloc[-20:]\n",
    "    fea_imp.plot(kind='barh', x='col', y='imp', figsize=(8, 6), legend=None)\n",
    "    plt.title('Важность признаков')\n",
    "    plt.ylabel('Признаки')\n",
    "    plt.xlabel('Важность')"
   ]
  },
  {
   "cell_type": "code",
   "execution_count": 399,
   "id": "176a25db",
   "metadata": {},
   "outputs": [],
   "source": [
    "def clustering(k, algo, df, embeddings):\n",
    "    #присвоение лейблов кластеров текстам\n",
    "    embeddings = embeddings\n",
    "    n_clusters = k\n",
    "    \n",
    "    if algo == \"kmeans\":\n",
    "        kmeans = KMeans(n_clusters = n_clusters, n_init=20, max_iter= 300, random_state = 42)\n",
    "        kmeans.fit(embeddings)\n",
    "        kmeans_labels = kmeans.labels_\n",
    "        kmeans_centers = kmeans.cluster_centers_    \n",
    "        kmeans_top_texts = find_center_text(k, df, kmeans_labels, kmeans_centers, embeddings)\n",
    "    \n",
    "    elif algo == \"agglomerat\":\n",
    "        kmeans = AgglomerativeClustering(n_clusters = n_clusters)\n",
    "        kmeans.fit(embeddings)\n",
    "        kmeans_labels = kmeans.labels_\n",
    "        kmeans_top_texts = ' '\n",
    "        \n",
    "    elif algo == \"dbscan\":   \n",
    "        #сам определяет количество классов, шум кластер=-1\n",
    "        kmeans = DBSCAN(eps=0.7, min_samples=2, metric='euclidean')\n",
    "        kmeans.fit(embeddings)\n",
    "        kmeans_labels = kmeans.labels_\n",
    "        kmeans_top_texts = ' '\n",
    "\n",
    "    return kmeans_labels, kmeans_top_texts"
   ]
  },
  {
   "cell_type": "code",
   "execution_count": 464,
   "id": "a46dc872",
   "metadata": {},
   "outputs": [],
   "source": [
    "def create_submission(request, retype):\n",
    "    submission = pd.read_csv('train_dataset_ЦБ/submission.csv', sep=',')\n",
    "    submission['Тип переклассификации']=retype\n",
    "    submission['Тип обращения итоговый']=request\n",
    "    submission['Тип обращения итоговый']=submission['Тип обращения итоговый'].replace({1:\"Запрос\", 0: \"Инцидент\"})\n",
    "    submission.to_csv('submission.csv', index=False)"
   ]
  },
  {
   "cell_type": "markdown",
   "id": "ee800595",
   "metadata": {},
   "source": [
    "### Подготовка данных"
   ]
  },
  {
   "cell_type": "markdown",
   "id": "74867fbf",
   "metadata": {},
   "source": [
    "Загрузка датасетов"
   ]
  },
  {
   "cell_type": "code",
   "execution_count": 256,
   "id": "50edb27b",
   "metadata": {},
   "outputs": [],
   "source": [
    "parse_dates=['Крайний срок', 'Дата обращения', 'Дата восстановления','Дата закрытия обращения']\n",
    "dtype = {'Приоритет': 'category', 'Статус': 'category', 'Критичность': 'category', 'Влияние': 'category',\n",
    "        'Тип переклассификации': 'category'}\n",
    "#col_list = []"
   ]
  },
  {
   "cell_type": "code",
   "execution_count": 257,
   "id": "bd7d0e76",
   "metadata": {},
   "outputs": [
    {
     "data": {
      "text/html": [
       "<div>\n",
       "<style scoped>\n",
       "    .dataframe tbody tr th:only-of-type {\n",
       "        vertical-align: middle;\n",
       "    }\n",
       "\n",
       "    .dataframe tbody tr th {\n",
       "        vertical-align: top;\n",
       "    }\n",
       "\n",
       "    .dataframe thead th {\n",
       "        text-align: right;\n",
       "    }\n",
       "</style>\n",
       "<table border=\"1\" class=\"dataframe\">\n",
       "  <thead>\n",
       "    <tr style=\"text-align: right;\">\n",
       "      <th></th>\n",
       "      <th>Содержание</th>\n",
       "      <th>Сервис</th>\n",
       "      <th>Приоритет</th>\n",
       "      <th>Статус</th>\n",
       "      <th>Функциональная группа</th>\n",
       "      <th>Крайний срок</th>\n",
       "      <th>Дата обращения</th>\n",
       "      <th>Тип обращения на момент подачи</th>\n",
       "      <th>Тип обращения итоговый</th>\n",
       "      <th>Решение</th>\n",
       "      <th>Тип переклассификации</th>\n",
       "      <th>Дата восстановления</th>\n",
       "      <th>Дата закрытия обращения</th>\n",
       "      <th>Критичность</th>\n",
       "      <th>Влияние</th>\n",
       "      <th>Система</th>\n",
       "      <th>Место</th>\n",
       "    </tr>\n",
       "  </thead>\n",
       "  <tbody>\n",
       "    <tr>\n",
       "      <th>0</th>\n",
       "      <td>Тест</td>\n",
       "      <td>АРМ</td>\n",
       "      <td>3-Низкий</td>\n",
       "      <td>Отменен</td>\n",
       "      <td>ФГ1</td>\n",
       "      <td>2018-01-24 07:42:00</td>\n",
       "      <td>2018-01-19 09:27:00</td>\n",
       "      <td>Запрос</td>\n",
       "      <td>Запрос</td>\n",
       "      <td>Тест</td>\n",
       "      <td>0</td>\n",
       "      <td>NaT</td>\n",
       "      <td>2018-01-19 09:43:00</td>\n",
       "      <td>4-Нет</td>\n",
       "      <td>3-Малое</td>\n",
       "      <td>База</td>\n",
       "      <td>К</td>\n",
       "    </tr>\n",
       "    <tr>\n",
       "      <th>1</th>\n",
       "      <td>Тестовое обращение</td>\n",
       "      <td>АРМ</td>\n",
       "      <td>3-Низкий</td>\n",
       "      <td>Отменен</td>\n",
       "      <td>ФГ1</td>\n",
       "      <td>2018-01-24 10:51:00</td>\n",
       "      <td>2018-01-19 09:36:00</td>\n",
       "      <td>Запрос</td>\n",
       "      <td>Запрос</td>\n",
       "      <td>Тест</td>\n",
       "      <td>0</td>\n",
       "      <td>NaT</td>\n",
       "      <td>2018-01-19 09:41:00</td>\n",
       "      <td>4-Нет</td>\n",
       "      <td>3-Малое</td>\n",
       "      <td>База</td>\n",
       "      <td>К</td>\n",
       "    </tr>\n",
       "    <tr>\n",
       "      <th>2</th>\n",
       "      <td>Выполнена разблокировка у/з REGION\\*****</td>\n",
       "      <td>Сервис7</td>\n",
       "      <td>2-Средний</td>\n",
       "      <td>Закрыт</td>\n",
       "      <td>ФГ8</td>\n",
       "      <td>2018-01-31 07:51:00</td>\n",
       "      <td>2018-01-25 22:47:00</td>\n",
       "      <td>Запрос</td>\n",
       "      <td>Запрос</td>\n",
       "      <td>Выполнена разблокировка у/з Ne_bosS\\*********\\...</td>\n",
       "      <td>0</td>\n",
       "      <td>2018-01-25 22:47:00</td>\n",
       "      <td>2018-02-02 07:52:00</td>\n",
       "      <td>1-Особая</td>\n",
       "      <td>3-Малое</td>\n",
       "      <td>Система7</td>\n",
       "      <td>Место190</td>\n",
       "    </tr>\n",
       "  </tbody>\n",
       "</table>\n",
       "</div>"
      ],
      "text/plain": [
       "                                 Содержание   Сервис  Приоритет   Статус  \\\n",
       "0                                      Тест      АРМ   3-Низкий  Отменен   \n",
       "1                        Тестовое обращение      АРМ   3-Низкий  Отменен   \n",
       "2  Выполнена разблокировка у/з REGION\\*****  Сервис7  2-Средний   Закрыт   \n",
       "\n",
       "  Функциональная группа        Крайний срок      Дата обращения  \\\n",
       "0                   ФГ1 2018-01-24 07:42:00 2018-01-19 09:27:00   \n",
       "1                   ФГ1 2018-01-24 10:51:00 2018-01-19 09:36:00   \n",
       "2                   ФГ8 2018-01-31 07:51:00 2018-01-25 22:47:00   \n",
       "\n",
       "  Тип обращения на момент подачи Тип обращения итоговый  \\\n",
       "0                         Запрос                 Запрос   \n",
       "1                         Запрос                 Запрос   \n",
       "2                         Запрос                 Запрос   \n",
       "\n",
       "                                Решение               Тип переклассификации  \\\n",
       "0                                               Тест                      0   \n",
       "1                                               Тест                      0   \n",
       "2  Выполнена разблокировка у/з Ne_bosS\\*********\\...                      0   \n",
       "\n",
       "  Дата восстановления Дата закрытия обращения Критичность  Влияние   Система  \\\n",
       "0                 NaT     2018-01-19 09:43:00       4-Нет  3-Малое      База   \n",
       "1                 NaT     2018-01-19 09:41:00       4-Нет  3-Малое      База   \n",
       "2 2018-01-25 22:47:00     2018-02-02 07:52:00    1-Особая  3-Малое  Система7   \n",
       "\n",
       "      Место  \n",
       "0         К  \n",
       "1         К  \n",
       "2  Место190  "
      ]
     },
     "execution_count": 257,
     "metadata": {},
     "output_type": "execute_result"
    }
   ],
   "source": [
    "train = pd.read_csv('train_dataset_ЦБ/train.csv', sep=',', #dtype=dtype, \n",
    "                    parse_dates=parse_dates, na_values=\"None\")#[col_list]\n",
    "train.head(3)"
   ]
  },
  {
   "cell_type": "code",
   "execution_count": 258,
   "id": "e0642efc",
   "metadata": {},
   "outputs": [
    {
     "data": {
      "text/html": [
       "<div>\n",
       "<style scoped>\n",
       "    .dataframe tbody tr th:only-of-type {\n",
       "        vertical-align: middle;\n",
       "    }\n",
       "\n",
       "    .dataframe tbody tr th {\n",
       "        vertical-align: top;\n",
       "    }\n",
       "\n",
       "    .dataframe thead th {\n",
       "        text-align: right;\n",
       "    }\n",
       "</style>\n",
       "<table border=\"1\" class=\"dataframe\">\n",
       "  <thead>\n",
       "    <tr style=\"text-align: right;\">\n",
       "      <th></th>\n",
       "      <th>id</th>\n",
       "      <th>Содержание</th>\n",
       "      <th>Сервис</th>\n",
       "      <th>Приоритет</th>\n",
       "      <th>Статус</th>\n",
       "      <th>Функциональная группа</th>\n",
       "      <th>Крайний срок</th>\n",
       "      <th>Дата обращения</th>\n",
       "      <th>Тип обращения на момент подачи</th>\n",
       "      <th>Тип обращения итоговый</th>\n",
       "      <th>Решение</th>\n",
       "      <th>Тип переклассификации</th>\n",
       "      <th>Дата восстановления</th>\n",
       "      <th>Дата закрытия обращения</th>\n",
       "      <th>Критичность</th>\n",
       "      <th>Влияние</th>\n",
       "      <th>Система</th>\n",
       "      <th>Место</th>\n",
       "    </tr>\n",
       "  </thead>\n",
       "  <tbody>\n",
       "    <tr>\n",
       "      <th>0</th>\n",
       "      <td>14803</td>\n",
       "      <td>Заявка на предоставление и отзыв прав доступа ...</td>\n",
       "      <td>Сервис41</td>\n",
       "      <td>3-Низкий</td>\n",
       "      <td>Закрыт</td>\n",
       "      <td>ФГ13</td>\n",
       "      <td>2018-02-22 07:51:00</td>\n",
       "      <td>2018-02-16 13:11:00</td>\n",
       "      <td>Запрос</td>\n",
       "      <td>NaN</td>\n",
       "      <td>Работы по обращению выполнены</td>\n",
       "      <td>NaN</td>\n",
       "      <td>2018-02-18 04:32:00</td>\n",
       "      <td>2018-02-25 07:56:00</td>\n",
       "      <td>4-Нет</td>\n",
       "      <td>4-Нет влияния</td>\n",
       "      <td>Система43</td>\n",
       "      <td>Место38</td>\n",
       "    </tr>\n",
       "    <tr>\n",
       "      <th>1</th>\n",
       "      <td>14804</td>\n",
       "      <td>Транспортный шлюз</td>\n",
       "      <td>Сервис61</td>\n",
       "      <td>2-Средний</td>\n",
       "      <td>Закрыт</td>\n",
       "      <td>ФГ1</td>\n",
       "      <td>2018-02-21 14:36:00</td>\n",
       "      <td>2018-02-16 13:13:00</td>\n",
       "      <td>Запрос</td>\n",
       "      <td>NaN</td>\n",
       "      <td>проинф у.о.</td>\n",
       "      <td>NaN</td>\n",
       "      <td>2018-02-16 17:55:00</td>\n",
       "      <td>2018-02-24 07:54:00</td>\n",
       "      <td>1-Особая</td>\n",
       "      <td>3-Малое</td>\n",
       "      <td>Система61</td>\n",
       "      <td>К</td>\n",
       "    </tr>\n",
       "    <tr>\n",
       "      <th>2</th>\n",
       "      <td>14805</td>\n",
       "      <td>Заявка на предоставление и отзыв прав доступа ...</td>\n",
       "      <td>Сервис22</td>\n",
       "      <td>3-Низкий</td>\n",
       "      <td>Закрыт</td>\n",
       "      <td>ФГ13</td>\n",
       "      <td>2018-03-31 06:36:00</td>\n",
       "      <td>2018-02-16 13:13:00</td>\n",
       "      <td>Запрос</td>\n",
       "      <td>NaN</td>\n",
       "      <td>Работы по обращению выполнены</td>\n",
       "      <td>NaN</td>\n",
       "      <td>2018-03-15 16:09:00</td>\n",
       "      <td>2018-03-23 07:56:00</td>\n",
       "      <td>2-Повышенная</td>\n",
       "      <td>4-Нет влияния</td>\n",
       "      <td>Система13</td>\n",
       "      <td>Место25</td>\n",
       "    </tr>\n",
       "  </tbody>\n",
       "</table>\n",
       "</div>"
      ],
      "text/plain": [
       "      id                                         Содержание    Сервис  \\\n",
       "0  14803  Заявка на предоставление и отзыв прав доступа ...  Сервис41   \n",
       "1  14804                                  Транспортный шлюз  Сервис61   \n",
       "2  14805  Заявка на предоставление и отзыв прав доступа ...  Сервис22   \n",
       "\n",
       "   Приоритет  Статус Функциональная группа        Крайний срок  \\\n",
       "0   3-Низкий  Закрыт                  ФГ13 2018-02-22 07:51:00   \n",
       "1  2-Средний  Закрыт                   ФГ1 2018-02-21 14:36:00   \n",
       "2   3-Низкий  Закрыт                  ФГ13 2018-03-31 06:36:00   \n",
       "\n",
       "       Дата обращения Тип обращения на момент подачи  Тип обращения итоговый  \\\n",
       "0 2018-02-16 13:11:00                         Запрос                     NaN   \n",
       "1 2018-02-16 13:13:00                         Запрос                     NaN   \n",
       "2 2018-02-16 13:13:00                         Запрос                     NaN   \n",
       "\n",
       "            Решение              Тип переклассификации Дата восстановления  \\\n",
       "0  Работы по обращению выполнены                   NaN 2018-02-18 04:32:00   \n",
       "1                    проинф у.о.                   NaN 2018-02-16 17:55:00   \n",
       "2  Работы по обращению выполнены                   NaN 2018-03-15 16:09:00   \n",
       "\n",
       "  Дата закрытия обращения   Критичность        Влияние    Система    Место  \n",
       "0     2018-02-25 07:56:00         4-Нет  4-Нет влияния  Система43  Место38  \n",
       "1     2018-02-24 07:54:00      1-Особая        3-Малое  Система61        К  \n",
       "2     2018-03-23 07:56:00  2-Повышенная  4-Нет влияния  Система13  Место25  "
      ]
     },
     "execution_count": 258,
     "metadata": {},
     "output_type": "execute_result"
    }
   ],
   "source": [
    "test = pd.read_csv('train_dataset_ЦБ/test.csv', sep=',', dtype=dtype, \n",
    "                   parse_dates=parse_dates, na_values=\"None\")#[col_list]\n",
    "test.head(3)"
   ]
  },
  {
   "cell_type": "markdown",
   "id": "f8146e12",
   "metadata": {},
   "source": [
    "Перевод категорий в числовой формат для моделей и очистка текста"
   ]
  },
  {
   "cell_type": "code",
   "execution_count": 259,
   "id": "3d9ae2f7",
   "metadata": {},
   "outputs": [
    {
     "data": {
      "application/json": {
       "ascii": false,
       "bar_format": null,
       "colour": null,
       "elapsed": 0.0037546157836914062,
       "initial": 0,
       "n": 0,
       "ncols": null,
       "nrows": null,
       "postfix": null,
       "prefix": "",
       "rate": null,
       "total": 14803,
       "unit": "it",
       "unit_divisor": 1000,
       "unit_scale": false
      },
      "application/vnd.jupyter.widget-view+json": {
       "model_id": "805b863b96d0434fa2fdc7511c905368",
       "version_major": 2,
       "version_minor": 0
      },
      "text/plain": [
       "  0%|          | 0/14803 [00:00<?, ?it/s]"
      ]
     },
     "metadata": {},
     "output_type": "display_data"
    },
    {
     "data": {
      "application/json": {
       "ascii": false,
       "bar_format": null,
       "colour": null,
       "elapsed": 0.003484487533569336,
       "initial": 0,
       "n": 0,
       "ncols": null,
       "nrows": null,
       "postfix": null,
       "prefix": "",
       "rate": null,
       "total": 6344,
       "unit": "it",
       "unit_divisor": 1000,
       "unit_scale": false
      },
      "application/vnd.jupyter.widget-view+json": {
       "model_id": "f11b201affcc42debd3c1d9cace67694",
       "version_major": 2,
       "version_minor": 0
      },
      "text/plain": [
       "  0%|          | 0/6344 [00:00<?, ?it/s]"
      ]
     },
     "metadata": {},
     "output_type": "display_data"
    }
   ],
   "source": [
    "train, test = cats_featuring(train, test)"
   ]
  },
  {
   "cell_type": "markdown",
   "id": "0bbcf9b3",
   "metadata": {},
   "source": [
    "Фичи по времени"
   ]
  },
  {
   "cell_type": "code",
   "execution_count": 260,
   "id": "b540f5e5",
   "metadata": {},
   "outputs": [],
   "source": [
    "train = time_featuring(train)\n",
    "test = time_featuring(test)"
   ]
  },
  {
   "cell_type": "code",
   "execution_count": 305,
   "id": "5aff3591",
   "metadata": {},
   "outputs": [
    {
     "data": {
      "text/plain": [
       "Index(['Содержание', 'Сервис', 'Приоритет', 'Статус', 'Функциональная группа',\n",
       "       'Крайний срок', 'Дата обращения', 'Тип обращения на момент подачи',\n",
       "       'Тип обращения итоговый', 'Решение             ',\n",
       "       'Тип переклассификации', 'Дата восстановления',\n",
       "       'Дата закрытия обращения', 'Критичность', 'Влияние', 'Система', 'Место',\n",
       "       'request', 'delta_plan', 'delta_fact', 'delta_real', 'delta_wait',\n",
       "       'weekday', 'hour', 'scores', 'anomaly'],\n",
       "      dtype='object')"
      ]
     },
     "execution_count": 305,
     "metadata": {},
     "output_type": "execute_result"
    }
   ],
   "source": [
    "train.columns"
   ]
  },
  {
   "cell_type": "markdown",
   "id": "37fc2ad2",
   "metadata": {},
   "source": [
    "Текстовые фичи"
   ]
  },
  {
   "cell_type": "code",
   "execution_count": 262,
   "id": "9580d9e2",
   "metadata": {},
   "outputs": [],
   "source": [
    "X_tfidf, test_tfidf = tfidf_featuring(train, test)"
   ]
  },
  {
   "cell_type": "code",
   "execution_count": 263,
   "id": "2f9472d6",
   "metadata": {},
   "outputs": [
    {
     "data": {
      "text/html": [
       "<div>\n",
       "<style scoped>\n",
       "    .dataframe tbody tr th:only-of-type {\n",
       "        vertical-align: middle;\n",
       "    }\n",
       "\n",
       "    .dataframe tbody tr th {\n",
       "        vertical-align: top;\n",
       "    }\n",
       "\n",
       "    .dataframe thead th {\n",
       "        text-align: right;\n",
       "    }\n",
       "</style>\n",
       "<table border=\"1\" class=\"dataframe\">\n",
       "  <thead>\n",
       "    <tr style=\"text-align: right;\">\n",
       "      <th></th>\n",
       "      <th>boss</th>\n",
       "      <th>boss идентификация</th>\n",
       "      <th>boss личность</th>\n",
       "      <th>boss повторный</th>\n",
       "      <th>boss пользователь</th>\n",
       "      <th>boss разблокировать</th>\n",
       "      <th>cоздание</th>\n",
       "      <th>cоздание пользователь</th>\n",
       "      <th>ne</th>\n",
       "      <th>ne boss</th>\n",
       "      <th>...</th>\n",
       "      <th>шлюз</th>\n",
       "      <th>штатный</th>\n",
       "      <th>эл</th>\n",
       "      <th>эл почта</th>\n",
       "      <th>электронный</th>\n",
       "      <th>электронный почта</th>\n",
       "      <th>эп</th>\n",
       "      <th>эп сервис</th>\n",
       "      <th>это</th>\n",
       "      <th>это точно</th>\n",
       "    </tr>\n",
       "  </thead>\n",
       "  <tbody>\n",
       "    <tr>\n",
       "      <th>0</th>\n",
       "      <td>0.000000</td>\n",
       "      <td>0.000000</td>\n",
       "      <td>0.0</td>\n",
       "      <td>0.0</td>\n",
       "      <td>0.0</td>\n",
       "      <td>0.0</td>\n",
       "      <td>0.0</td>\n",
       "      <td>0.0</td>\n",
       "      <td>0.000000</td>\n",
       "      <td>0.000000</td>\n",
       "      <td>...</td>\n",
       "      <td>0.0</td>\n",
       "      <td>0.0</td>\n",
       "      <td>0.0</td>\n",
       "      <td>0.0</td>\n",
       "      <td>0.0</td>\n",
       "      <td>0.0</td>\n",
       "      <td>0.0</td>\n",
       "      <td>0.0</td>\n",
       "      <td>0.0</td>\n",
       "      <td>0.0</td>\n",
       "    </tr>\n",
       "    <tr>\n",
       "      <th>1</th>\n",
       "      <td>0.000000</td>\n",
       "      <td>0.000000</td>\n",
       "      <td>0.0</td>\n",
       "      <td>0.0</td>\n",
       "      <td>0.0</td>\n",
       "      <td>0.0</td>\n",
       "      <td>0.0</td>\n",
       "      <td>0.0</td>\n",
       "      <td>0.000000</td>\n",
       "      <td>0.000000</td>\n",
       "      <td>...</td>\n",
       "      <td>0.0</td>\n",
       "      <td>0.0</td>\n",
       "      <td>0.0</td>\n",
       "      <td>0.0</td>\n",
       "      <td>0.0</td>\n",
       "      <td>0.0</td>\n",
       "      <td>0.0</td>\n",
       "      <td>0.0</td>\n",
       "      <td>0.0</td>\n",
       "      <td>0.0</td>\n",
       "    </tr>\n",
       "    <tr>\n",
       "      <th>2</th>\n",
       "      <td>0.122358</td>\n",
       "      <td>0.193157</td>\n",
       "      <td>0.0</td>\n",
       "      <td>0.0</td>\n",
       "      <td>0.0</td>\n",
       "      <td>0.0</td>\n",
       "      <td>0.0</td>\n",
       "      <td>0.0</td>\n",
       "      <td>0.123607</td>\n",
       "      <td>0.123607</td>\n",
       "      <td>...</td>\n",
       "      <td>0.0</td>\n",
       "      <td>0.0</td>\n",
       "      <td>0.0</td>\n",
       "      <td>0.0</td>\n",
       "      <td>0.0</td>\n",
       "      <td>0.0</td>\n",
       "      <td>0.0</td>\n",
       "      <td>0.0</td>\n",
       "      <td>0.0</td>\n",
       "      <td>0.0</td>\n",
       "    </tr>\n",
       "  </tbody>\n",
       "</table>\n",
       "<p>3 rows × 500 columns</p>\n",
       "</div>"
      ],
      "text/plain": [
       "       boss  boss идентификация  boss личность  boss повторный  \\\n",
       "0  0.000000            0.000000            0.0             0.0   \n",
       "1  0.000000            0.000000            0.0             0.0   \n",
       "2  0.122358            0.193157            0.0             0.0   \n",
       "\n",
       "   boss пользователь  boss разблокировать  cоздание  cоздание пользователь  \\\n",
       "0                0.0                  0.0       0.0                    0.0   \n",
       "1                0.0                  0.0       0.0                    0.0   \n",
       "2                0.0                  0.0       0.0                    0.0   \n",
       "\n",
       "         ne   ne boss  ...  шлюз  штатный   эл  эл почта  электронный  \\\n",
       "0  0.000000  0.000000  ...   0.0      0.0  0.0       0.0          0.0   \n",
       "1  0.000000  0.000000  ...   0.0      0.0  0.0       0.0          0.0   \n",
       "2  0.123607  0.123607  ...   0.0      0.0  0.0       0.0          0.0   \n",
       "\n",
       "   электронный почта   эп  эп сервис  это  это точно  \n",
       "0                0.0  0.0        0.0  0.0        0.0  \n",
       "1                0.0  0.0        0.0  0.0        0.0  \n",
       "2                0.0  0.0        0.0  0.0        0.0  \n",
       "\n",
       "[3 rows x 500 columns]"
      ]
     },
     "execution_count": 263,
     "metadata": {},
     "output_type": "execute_result"
    }
   ],
   "source": [
    "X_tfidf.head(3)"
   ]
  },
  {
   "cell_type": "code",
   "execution_count": 264,
   "id": "5d8e96e5",
   "metadata": {},
   "outputs": [
    {
     "data": {
      "text/html": [
       "<div>\n",
       "<style scoped>\n",
       "    .dataframe tbody tr th:only-of-type {\n",
       "        vertical-align: middle;\n",
       "    }\n",
       "\n",
       "    .dataframe tbody tr th {\n",
       "        vertical-align: top;\n",
       "    }\n",
       "\n",
       "    .dataframe thead th {\n",
       "        text-align: right;\n",
       "    }\n",
       "</style>\n",
       "<table border=\"1\" class=\"dataframe\">\n",
       "  <thead>\n",
       "    <tr style=\"text-align: right;\">\n",
       "      <th></th>\n",
       "      <th>boss</th>\n",
       "      <th>boss идентификация</th>\n",
       "      <th>boss личность</th>\n",
       "      <th>boss повторный</th>\n",
       "      <th>boss пользователь</th>\n",
       "      <th>boss разблокировать</th>\n",
       "      <th>cоздание</th>\n",
       "      <th>cоздание пользователь</th>\n",
       "      <th>ne</th>\n",
       "      <th>ne boss</th>\n",
       "      <th>...</th>\n",
       "      <th>шлюз</th>\n",
       "      <th>штатный</th>\n",
       "      <th>эл</th>\n",
       "      <th>эл почта</th>\n",
       "      <th>электронный</th>\n",
       "      <th>электронный почта</th>\n",
       "      <th>эп</th>\n",
       "      <th>эп сервис</th>\n",
       "      <th>это</th>\n",
       "      <th>это точно</th>\n",
       "    </tr>\n",
       "  </thead>\n",
       "  <tbody>\n",
       "    <tr>\n",
       "      <th>0</th>\n",
       "      <td>0.0</td>\n",
       "      <td>0.0</td>\n",
       "      <td>0.0</td>\n",
       "      <td>0.0</td>\n",
       "      <td>0.0</td>\n",
       "      <td>0.0</td>\n",
       "      <td>0.0</td>\n",
       "      <td>0.0</td>\n",
       "      <td>0.0</td>\n",
       "      <td>0.0</td>\n",
       "      <td>...</td>\n",
       "      <td>0.000000</td>\n",
       "      <td>0.0</td>\n",
       "      <td>0.0</td>\n",
       "      <td>0.0</td>\n",
       "      <td>0.0</td>\n",
       "      <td>0.0</td>\n",
       "      <td>0.0</td>\n",
       "      <td>0.0</td>\n",
       "      <td>0.0</td>\n",
       "      <td>0.0</td>\n",
       "    </tr>\n",
       "    <tr>\n",
       "      <th>1</th>\n",
       "      <td>0.0</td>\n",
       "      <td>0.0</td>\n",
       "      <td>0.0</td>\n",
       "      <td>0.0</td>\n",
       "      <td>0.0</td>\n",
       "      <td>0.0</td>\n",
       "      <td>0.0</td>\n",
       "      <td>0.0</td>\n",
       "      <td>0.0</td>\n",
       "      <td>0.0</td>\n",
       "      <td>...</td>\n",
       "      <td>0.577641</td>\n",
       "      <td>0.0</td>\n",
       "      <td>0.0</td>\n",
       "      <td>0.0</td>\n",
       "      <td>0.0</td>\n",
       "      <td>0.0</td>\n",
       "      <td>0.0</td>\n",
       "      <td>0.0</td>\n",
       "      <td>0.0</td>\n",
       "      <td>0.0</td>\n",
       "    </tr>\n",
       "    <tr>\n",
       "      <th>2</th>\n",
       "      <td>0.0</td>\n",
       "      <td>0.0</td>\n",
       "      <td>0.0</td>\n",
       "      <td>0.0</td>\n",
       "      <td>0.0</td>\n",
       "      <td>0.0</td>\n",
       "      <td>0.0</td>\n",
       "      <td>0.0</td>\n",
       "      <td>0.0</td>\n",
       "      <td>0.0</td>\n",
       "      <td>...</td>\n",
       "      <td>0.000000</td>\n",
       "      <td>0.0</td>\n",
       "      <td>0.0</td>\n",
       "      <td>0.0</td>\n",
       "      <td>0.0</td>\n",
       "      <td>0.0</td>\n",
       "      <td>0.0</td>\n",
       "      <td>0.0</td>\n",
       "      <td>0.0</td>\n",
       "      <td>0.0</td>\n",
       "    </tr>\n",
       "  </tbody>\n",
       "</table>\n",
       "<p>3 rows × 500 columns</p>\n",
       "</div>"
      ],
      "text/plain": [
       "   boss  boss идентификация  boss личность  boss повторный  boss пользователь  \\\n",
       "0   0.0                 0.0            0.0             0.0                0.0   \n",
       "1   0.0                 0.0            0.0             0.0                0.0   \n",
       "2   0.0                 0.0            0.0             0.0                0.0   \n",
       "\n",
       "   boss разблокировать  cоздание  cоздание пользователь   ne  ne boss  ...  \\\n",
       "0                  0.0       0.0                    0.0  0.0      0.0  ...   \n",
       "1                  0.0       0.0                    0.0  0.0      0.0  ...   \n",
       "2                  0.0       0.0                    0.0  0.0      0.0  ...   \n",
       "\n",
       "       шлюз  штатный   эл  эл почта  электронный  электронный почта   эп  \\\n",
       "0  0.000000      0.0  0.0       0.0          0.0                0.0  0.0   \n",
       "1  0.577641      0.0  0.0       0.0          0.0                0.0  0.0   \n",
       "2  0.000000      0.0  0.0       0.0          0.0                0.0  0.0   \n",
       "\n",
       "   эп сервис  это  это точно  \n",
       "0        0.0  0.0        0.0  \n",
       "1        0.0  0.0        0.0  \n",
       "2        0.0  0.0        0.0  \n",
       "\n",
       "[3 rows x 500 columns]"
      ]
     },
     "execution_count": 264,
     "metadata": {},
     "output_type": "execute_result"
    }
   ],
   "source": [
    "test_tfidf.head(3)"
   ]
  },
  {
   "cell_type": "markdown",
   "id": "8ac2d7bc",
   "metadata": {},
   "source": [
    "Объединение фич в один датасет"
   ]
  },
  {
   "cell_type": "code",
   "execution_count": 265,
   "id": "4b914ba9",
   "metadata": {},
   "outputs": [],
   "source": [
    "#'Тип переклассификации' 0 - не меняется,  с заявки на инцидент, 2 с инцидента на заявку\n",
    "target_name = ['Тип обращения итоговый', 'Тип переклассификации']\n",
    "columns_name = ['Сервис', 'Приоритет', 'Статус', 'Функциональная группа', 'Тип обращения на момент подачи',\n",
    "                'Критичность', 'Влияние', 'Система', 'Место', 'delta_plan', 'weekday', 'hour',]\n",
    "cat_features = ['Сервис', 'Система', \"Критичность\", \"Влияние\", \"Приоритет\", \"Тип обращения на момент подачи\",\n",
    "                \"Статус\", 'Место',] "
   ]
  },
  {
   "cell_type": "code",
   "execution_count": 266,
   "id": "a2b3bd94",
   "metadata": {},
   "outputs": [
    {
     "data": {
      "text/html": [
       "<div>\n",
       "<style scoped>\n",
       "    .dataframe tbody tr th:only-of-type {\n",
       "        vertical-align: middle;\n",
       "    }\n",
       "\n",
       "    .dataframe tbody tr th {\n",
       "        vertical-align: top;\n",
       "    }\n",
       "\n",
       "    .dataframe thead th {\n",
       "        text-align: right;\n",
       "    }\n",
       "</style>\n",
       "<table border=\"1\" class=\"dataframe\">\n",
       "  <thead>\n",
       "    <tr style=\"text-align: right;\">\n",
       "      <th></th>\n",
       "      <th>boss</th>\n",
       "      <th>boss идентификация</th>\n",
       "      <th>boss личность</th>\n",
       "      <th>boss повторный</th>\n",
       "      <th>boss пользователь</th>\n",
       "      <th>boss разблокировать</th>\n",
       "      <th>cоздание</th>\n",
       "      <th>cоздание пользователь</th>\n",
       "      <th>ne</th>\n",
       "      <th>ne boss</th>\n",
       "      <th>...</th>\n",
       "      <th>Статус</th>\n",
       "      <th>Функциональная группа</th>\n",
       "      <th>Тип обращения на момент подачи</th>\n",
       "      <th>Критичность</th>\n",
       "      <th>Влияние</th>\n",
       "      <th>Система</th>\n",
       "      <th>Место</th>\n",
       "      <th>delta_plan</th>\n",
       "      <th>weekday</th>\n",
       "      <th>hour</th>\n",
       "    </tr>\n",
       "  </thead>\n",
       "  <tbody>\n",
       "    <tr>\n",
       "      <th>0</th>\n",
       "      <td>0.000000</td>\n",
       "      <td>0.000000</td>\n",
       "      <td>0.0</td>\n",
       "      <td>0.0</td>\n",
       "      <td>0.0</td>\n",
       "      <td>0.0</td>\n",
       "      <td>0.0</td>\n",
       "      <td>0.0</td>\n",
       "      <td>0.000000</td>\n",
       "      <td>0.000000</td>\n",
       "      <td>...</td>\n",
       "      <td>1</td>\n",
       "      <td>7</td>\n",
       "      <td>1</td>\n",
       "      <td>4</td>\n",
       "      <td>3</td>\n",
       "      <td>0</td>\n",
       "      <td>1</td>\n",
       "      <td>4</td>\n",
       "      <td>5</td>\n",
       "      <td>9</td>\n",
       "    </tr>\n",
       "    <tr>\n",
       "      <th>1</th>\n",
       "      <td>0.000000</td>\n",
       "      <td>0.000000</td>\n",
       "      <td>0.0</td>\n",
       "      <td>0.0</td>\n",
       "      <td>0.0</td>\n",
       "      <td>0.0</td>\n",
       "      <td>0.0</td>\n",
       "      <td>0.0</td>\n",
       "      <td>0.000000</td>\n",
       "      <td>0.000000</td>\n",
       "      <td>...</td>\n",
       "      <td>1</td>\n",
       "      <td>7</td>\n",
       "      <td>1</td>\n",
       "      <td>4</td>\n",
       "      <td>3</td>\n",
       "      <td>0</td>\n",
       "      <td>1</td>\n",
       "      <td>5</td>\n",
       "      <td>5</td>\n",
       "      <td>9</td>\n",
       "    </tr>\n",
       "    <tr>\n",
       "      <th>2</th>\n",
       "      <td>0.122358</td>\n",
       "      <td>0.193157</td>\n",
       "      <td>0.0</td>\n",
       "      <td>0.0</td>\n",
       "      <td>0.0</td>\n",
       "      <td>0.0</td>\n",
       "      <td>0.0</td>\n",
       "      <td>0.0</td>\n",
       "      <td>0.123607</td>\n",
       "      <td>0.123607</td>\n",
       "      <td>...</td>\n",
       "      <td>0</td>\n",
       "      <td>531</td>\n",
       "      <td>1</td>\n",
       "      <td>1</td>\n",
       "      <td>3</td>\n",
       "      <td>7</td>\n",
       "      <td>95</td>\n",
       "      <td>5</td>\n",
       "      <td>4</td>\n",
       "      <td>22</td>\n",
       "    </tr>\n",
       "  </tbody>\n",
       "</table>\n",
       "<p>3 rows × 512 columns</p>\n",
       "</div>"
      ],
      "text/plain": [
       "       boss  boss идентификация  boss личность  boss повторный  \\\n",
       "0  0.000000            0.000000            0.0             0.0   \n",
       "1  0.000000            0.000000            0.0             0.0   \n",
       "2  0.122358            0.193157            0.0             0.0   \n",
       "\n",
       "   boss пользователь  boss разблокировать  cоздание  cоздание пользователь  \\\n",
       "0                0.0                  0.0       0.0                    0.0   \n",
       "1                0.0                  0.0       0.0                    0.0   \n",
       "2                0.0                  0.0       0.0                    0.0   \n",
       "\n",
       "         ne   ne boss  ...  Статус  Функциональная группа  \\\n",
       "0  0.000000  0.000000  ...       1                      7   \n",
       "1  0.000000  0.000000  ...       1                      7   \n",
       "2  0.123607  0.123607  ...       0                    531   \n",
       "\n",
       "   Тип обращения на момент подачи  Критичность  Влияние  Система  Место  \\\n",
       "0                               1            4        3        0      1   \n",
       "1                               1            4        3        0      1   \n",
       "2                               1            1        3        7     95   \n",
       "\n",
       "   delta_plan  weekday  hour  \n",
       "0           4        5     9  \n",
       "1           5        5     9  \n",
       "2           5        4    22  \n",
       "\n",
       "[3 rows x 512 columns]"
      ]
     },
     "execution_count": 266,
     "metadata": {},
     "output_type": "execute_result"
    }
   ],
   "source": [
    "train_concat = pd.concat([X_tfidf, train[columns_name]], axis=1)\n",
    "test_concat = pd.concat([test_tfidf, test[columns_name]], axis=1)\n",
    "train_concat.head(3)"
   ]
  },
  {
   "cell_type": "markdown",
   "id": "314cf43a",
   "metadata": {},
   "source": [
    "### 1. Переклассификация типа записи пользователя"
   ]
  },
  {
   "cell_type": "markdown",
   "id": "67974810",
   "metadata": {},
   "source": [
    "Обучение модели переклассификации и предсказание"
   ]
  },
  {
   "cell_type": "code",
   "execution_count": 455,
   "id": "5c74a0ee",
   "metadata": {},
   "outputs": [],
   "source": [
    "#выделение тренировочной и тестовой выборки\n",
    "X_train_part, X_valid, y_train_part, y_valid = train_test_split(train_concat, \n",
    "                                                                train['Тип переклассификации'], \n",
    "                                                                stratify = train['Тип переклассификации'],\n",
    "                                                                random_state=42, test_size=0.2)"
   ]
  },
  {
   "cell_type": "code",
   "execution_count": 456,
   "id": "e672ffc5",
   "metadata": {},
   "outputs": [
    {
     "name": "stdout",
     "output_type": "stream",
     "text": [
      "0:\tlearn: 0.9158061\ttest: 0.9155818\tbest: 0.9155818 (0)\ttotal: 7.87ms\tremaining: 15.7s\n",
      "200:\tlearn: 0.0185211\ttest: 0.0262838\tbest: 0.0262838 (200)\ttotal: 1.22s\tremaining: 10.9s\n",
      "400:\tlearn: 0.0122900\ttest: 0.0238649\tbest: 0.0238445 (399)\ttotal: 2.37s\tremaining: 9.46s\n",
      "600:\tlearn: 0.0088584\ttest: 0.0223478\tbest: 0.0223478 (600)\ttotal: 3.55s\tremaining: 8.26s\n",
      "bestTest = 0.02191501709\n",
      "bestIteration = 706\n",
      "Shrink model to first 707 iterations.\n"
     ]
    },
    {
     "data": {
      "text/plain": [
       "<catboost.core.CatBoostClassifier at 0x7f1611d400d0>"
      ]
     },
     "execution_count": 456,
     "metadata": {},
     "output_type": "execute_result"
    }
   ],
   "source": [
    "#MultiClassification:MultiClass, MultiClassOneVsAll\n",
    "catc = CatBoostClassifier(loss_function = 'MultiClass', #eval_metric= \"TotalF1\",                    \n",
    "                          learning_rate=0.1, \n",
    "                          max_depth = 6, \n",
    "                          #min_data_in_leaf = 10,\n",
    "                          n_estimators = 2000,\n",
    "                          #colsample_bylevel = 0.9, \n",
    "                          #l2_leaf_reg = 1.5,\n",
    "                          #auto_class_weights='Balanced',\n",
    "                          leaf_estimation_iterations=1, random_state=42, task_type='GPU',)\n",
    "catc.fit(X_train_part, y_train_part, eval_set=(X_valid, y_valid), cat_features=cat_features,\n",
    "         early_stopping_rounds = 50, use_best_model=True, verbose=200)"
   ]
  },
  {
   "cell_type": "code",
   "execution_count": 457,
   "id": "2bcf5123",
   "metadata": {},
   "outputs": [
    {
     "name": "stdout",
     "output_type": "stream",
     "text": [
      "f1_macro:  0.8835103461510466\n",
      "              precision    recall  f1-score   support\n",
      "\n",
      "           0       0.99      1.00      1.00      2889\n",
      "           1       0.94      0.57      0.71        28\n",
      "           2       0.95      0.93      0.94        44\n",
      "\n",
      "    accuracy                           0.99      2961\n",
      "   macro avg       0.96      0.83      0.88      2961\n",
      "weighted avg       0.99      0.99      0.99      2961\n",
      "\n"
     ]
    },
    {
     "data": {
      "image/png": "[encoded data removed]",
      "text/plain": [
       "<Figure size 432x288 with 1 Axes>"
      ]
     },
     "metadata": {
      "needs_background": "light"
     },
     "output_type": "display_data"
    },
    {
     "data": {
      "image/png": "[encoded data removed]",
      "text/plain": [
       "<Figure size 576x432 with 1 Axes>"
      ]
     },
     "metadata": {
      "needs_background": "light"
     },
     "output_type": "display_data"
    }
   ],
   "source": [
    "#оценка точности предсказания на отложенной выборке\n",
    "validation(X_valid, y_valid)"
   ]
  },
  {
   "cell_type": "code",
   "execution_count": 458,
   "id": "e855fe33",
   "metadata": {},
   "outputs": [],
   "source": [
    "#Предсказание переклассификации для тестового датасета\n",
    "catc_prediction = catc.predict(test_concat)"
   ]
  },
  {
   "cell_type": "markdown",
   "id": "270e5f2d",
   "metadata": {},
   "source": [
    "Обучение модели предсказания итогового теста"
   ]
  },
  {
   "cell_type": "code",
   "execution_count": 460,
   "id": "4126d6ac",
   "metadata": {},
   "outputs": [],
   "source": [
    "X_train_part, X_valid, y_train_part, y_valid = train_test_split(train_concat, \n",
    "                                                                train['Тип обращения итоговый'], \n",
    "                                                                stratify = train['Тип обращения итоговый'],\n",
    "                                                                random_state=42, test_size=0.2)"
   ]
  },
  {
   "cell_type": "code",
   "execution_count": 461,
   "id": "45ee494a",
   "metadata": {},
   "outputs": [
    {
     "name": "stdout",
     "output_type": "stream",
     "text": [
      "0:\tlearn: 0.6400692\ttest: 0.6426645\tbest: 0.6426645 (0)\ttotal: 4.05ms\tremaining: 20.3s\n",
      "200:\tlearn: 0.0897435\ttest: 0.1651585\tbest: 0.1649491 (198)\ttotal: 555ms\tremaining: 13.2s\n",
      "400:\tlearn: 0.0651954\ttest: 0.1581826\tbest: 0.1580675 (390)\ttotal: 1.1s\tremaining: 12.6s\n",
      "bestTest = 0.1551462301\n",
      "bestIteration = 516\n",
      "Shrink model to first 517 iterations.\n"
     ]
    },
    {
     "data": {
      "text/plain": [
       "<catboost.core.CatBoostClassifier at 0x7f17c4fe43d0>"
      ]
     },
     "execution_count": 461,
     "metadata": {},
     "output_type": "execute_result"
    }
   ],
   "source": [
    "catc = CatBoostClassifier(loss_function = 'MultiClass', #eval_metric= \"TotalF1\",                       \n",
    "                          learning_rate=0.1, \n",
    "                          max_depth = 2, \n",
    "                          #min_data_in_leaf = 10,\n",
    "                          n_estimators = 5000,\n",
    "                          #colsample_bylevel = 0.9, \n",
    "                          l2_leaf_reg = 1.5,\n",
    "                          auto_class_weights='Balanced', #'class_weights': (2.09,2.86,0.18,234.5,234.5), \n",
    "                          leaf_estimation_iterations=1, random_state=42, task_type='GPU',)\n",
    "catc.fit(X_train_part, y_train_part, eval_set=(X_valid, y_valid), cat_features=cat_features,\n",
    "         early_stopping_rounds = 50, use_best_model=True, verbose=200)"
   ]
  },
  {
   "cell_type": "code",
   "execution_count": 462,
   "id": "8703dfac",
   "metadata": {},
   "outputs": [],
   "source": [
    "catc_prediction1 = catc.predict(test_concat)"
   ]
  },
  {
   "cell_type": "code",
   "execution_count": 465,
   "id": "d162ae3d",
   "metadata": {},
   "outputs": [],
   "source": [
    "#сохранение предсказания для тестовой выборки\n",
    "create_submission(catc_prediction1, catc_prediction)"
   ]
  },
  {
   "cell_type": "markdown",
   "id": "bc2c80e3",
   "metadata": {},
   "source": [
    "### 2. Выявление аномалий"
   ]
  },
  {
   "cell_type": "markdown",
   "id": "d9d8ee7e",
   "metadata": {},
   "source": [
    "Выявлние аномалий по времени обращения пользователя"
   ]
  },
  {
   "cell_type": "code",
   "execution_count": 438,
   "id": "5ec4b56c",
   "metadata": {},
   "outputs": [
    {
     "data": {
      "image/png": "[encoded data removed]",
      "text/plain": [
       "<Figure size 864x432 with 2 Axes>"
      ]
     },
     "metadata": {
      "needs_background": "light"
     },
     "output_type": "display_data"
    }
   ],
   "source": [
    "out = train.groupby(['weekday', 'hour'])['Тип обращения итоговый'].sum().unstack()\n",
    "plt.figure(figsize=(12,6))\n",
    "sns.heatmap(out, cmap=\"crest\")\n",
    "plt.title('Частота обращений пользователей')\n",
    "plt.ylabel('День недели')\n",
    "plt.xlabel('Час')\n",
    "plt.show()"
   ]
  },
  {
   "cell_type": "markdown",
   "id": "c233709c",
   "metadata": {},
   "source": [
    "Выявление аномалий в числовых данных"
   ]
  },
  {
   "cell_type": "code",
   "execution_count": 433,
   "id": "c0a910ff",
   "metadata": {},
   "outputs": [
    {
     "name": "stderr",
     "output_type": "stream",
     "text": [
      "/home/tanya/anaconda3/lib/python3.9/site-packages/sklearn/base.py:450: UserWarning: X does not have valid feature names, but IsolationForest was fitted with feature names\n",
      "  warnings.warn(\n"
     ]
    },
    {
     "data": {
      "text/plain": [
       "IsolationForest(contamination=0.01)"
      ]
     },
     "execution_count": 433,
     "metadata": {},
     "output_type": "execute_result"
    }
   ],
   "source": [
    "#'delta_plan', 'delta_fact', 'delta_real', 'delta_wait'\n",
    "model=IsolationForest(n_estimators=100, max_samples='auto', contamination=float(0.01), max_features=1.0)\n",
    "model.fit(train[['delta_fact']])"
   ]
  },
  {
   "cell_type": "code",
   "execution_count": 434,
   "id": "30a80238",
   "metadata": {},
   "outputs": [
    {
     "data": {
      "text/html": [
       "<div>\n",
       "<style scoped>\n",
       "    .dataframe tbody tr th:only-of-type {\n",
       "        vertical-align: middle;\n",
       "    }\n",
       "\n",
       "    .dataframe tbody tr th {\n",
       "        vertical-align: top;\n",
       "    }\n",
       "\n",
       "    .dataframe thead th {\n",
       "        text-align: right;\n",
       "    }\n",
       "</style>\n",
       "<table border=\"1\" class=\"dataframe\">\n",
       "  <thead>\n",
       "    <tr style=\"text-align: right;\">\n",
       "      <th></th>\n",
       "      <th>Содержание</th>\n",
       "      <th>Решение</th>\n",
       "      <th>delta_fact</th>\n",
       "      <th>scores</th>\n",
       "    </tr>\n",
       "  </thead>\n",
       "  <tbody>\n",
       "    <tr>\n",
       "      <th>5622</th>\n",
       "      <td>+Замена клавиатуры для ПЭВМ</td>\n",
       "      <td>Выполнено техническое обслуживание</td>\n",
       "      <td>98</td>\n",
       "      <td>-0.109673</td>\n",
       "    </tr>\n",
       "    <tr>\n",
       "      <th>6518</th>\n",
       "      <td>Заявка на предоставление и отзыв прав доступа ...</td>\n",
       "      <td>Работы по обращению выполнены</td>\n",
       "      <td>98</td>\n",
       "      <td>-0.109673</td>\n",
       "    </tr>\n",
       "    <tr>\n",
       "      <th>691</th>\n",
       "      <td>Создание запроса</td>\n",
       "      <td>Выполнено</td>\n",
       "      <td>102</td>\n",
       "      <td>-0.109673</td>\n",
       "    </tr>\n",
       "    <tr>\n",
       "      <th>9717</th>\n",
       "      <td>Предоставление техники для БРМ</td>\n",
       "      <td>Работы по обращению выполнены</td>\n",
       "      <td>113</td>\n",
       "      <td>-0.109673</td>\n",
       "    </tr>\n",
       "    <tr>\n",
       "      <th>4183</th>\n",
       "      <td>Ремонт калорифера (теплообменника) ТТ</td>\n",
       "      <td>Выполнена замена неисправного калорифера</td>\n",
       "      <td>127</td>\n",
       "      <td>-0.109673</td>\n",
       "    </tr>\n",
       "    <tr>\n",
       "      <th>5623</th>\n",
       "      <td>+Замена клавиатуры для ПЭВМ</td>\n",
       "      <td>Выполнено техническое обслуживание</td>\n",
       "      <td>98</td>\n",
       "      <td>-0.109673</td>\n",
       "    </tr>\n",
       "    <tr>\n",
       "      <th>12255</th>\n",
       "      <td>#отпуск до 13.03##подряд#Пользователи Система160</td>\n",
       "      <td>Пользователю оказана консультация по электронн...</td>\n",
       "      <td>93</td>\n",
       "      <td>-0.109673</td>\n",
       "    </tr>\n",
       "    <tr>\n",
       "      <th>8223</th>\n",
       "      <td>65.Устранение ошибки</td>\n",
       "      <td>ПО установлено</td>\n",
       "      <td>78</td>\n",
       "      <td>-0.108497</td>\n",
       "    </tr>\n",
       "    <tr>\n",
       "      <th>4688</th>\n",
       "      <td>Создание запроса</td>\n",
       "      <td>Запрос отменён пользователем из портала самооб...</td>\n",
       "      <td>77</td>\n",
       "      <td>-0.106149</td>\n",
       "    </tr>\n",
       "    <tr>\n",
       "      <th>4687</th>\n",
       "      <td>Создание запроса</td>\n",
       "      <td>Запрос отменён пользователем из портала самооб...</td>\n",
       "      <td>77</td>\n",
       "      <td>-0.106149</td>\n",
       "    </tr>\n",
       "  </tbody>\n",
       "</table>\n",
       "</div>"
      ],
      "text/plain": [
       "                                              Содержание  \\\n",
       "5622                         +Замена клавиатуры для ПЭВМ   \n",
       "6518   Заявка на предоставление и отзыв прав доступа ...   \n",
       "691                                     Создание запроса   \n",
       "9717                      Предоставление техники для БРМ   \n",
       "4183               Ремонт калорифера (теплообменника) ТТ   \n",
       "5623                         +Замена клавиатуры для ПЭВМ   \n",
       "12255   #отпуск до 13.03##подряд#Пользователи Система160   \n",
       "8223                                65.Устранение ошибки   \n",
       "4688                                    Создание запроса   \n",
       "4687                                    Создание запроса   \n",
       "\n",
       "                                    Решение               delta_fact    scores  \n",
       "5622                  Выполнено техническое обслуживание          98 -0.109673  \n",
       "6518                       Работы по обращению выполнены          98 -0.109673  \n",
       "691                                            Выполнено         102 -0.109673  \n",
       "9717                       Работы по обращению выполнены         113 -0.109673  \n",
       "4183            Выполнена замена неисправного калорифера         127 -0.109673  \n",
       "5623                  Выполнено техническое обслуживание          98 -0.109673  \n",
       "12255  Пользователю оказана консультация по электронн...          93 -0.109673  \n",
       "8223                                      ПО установлено          78 -0.108497  \n",
       "4688   Запрос отменён пользователем из портала самооб...          77 -0.106149  \n",
       "4687   Запрос отменён пользователем из портала самооб...          77 -0.106149  "
      ]
     },
     "execution_count": 434,
     "metadata": {},
     "output_type": "execute_result"
    }
   ],
   "source": [
    "train['delta_fact']=train['delta_fact'].fillna(0).astype(int)\n",
    "train['scores']=model.decision_function(train[['delta_fact']])\n",
    "train['anomaly']=model.predict(train[['delta_fact']])\n",
    "train[(train['anomaly']==-1)][[\"Содержание\", 'Решение             ', 'delta_fact', 'scores', ]].sort_values(by='scores', ascending=True).head(10)"
   ]
  },
  {
   "cell_type": "code",
   "execution_count": 284,
   "id": "db13426c",
   "metadata": {},
   "outputs": [],
   "source": [
    "#train[train['anomaly']==-1].index.tolist()"
   ]
  },
  {
   "cell_type": "markdown",
   "id": "a344175e",
   "metadata": {},
   "source": [
    "Выявление систем, с наиболее частыми нарушениями"
   ]
  },
  {
   "cell_type": "code",
   "execution_count": 351,
   "id": "c7d0d320",
   "metadata": {},
   "outputs": [],
   "source": [
    "col = ['Тип обращения итоговый', 'Сервис', 'Система', 'Функциональная группа', 'Место']\n",
    "temp = pd.read_csv('train_dataset_ЦБ/train.csv', sep=',',  na_values=\"None\")[col]"
   ]
  },
  {
   "cell_type": "code",
   "execution_count": 352,
   "id": "aa448993",
   "metadata": {},
   "outputs": [],
   "source": [
    "#top_count = temp[temp['Тип обращения итоговый']=='Инцидент']['Сервис'].value_counts(dropna= False)[0:10].to_frame()\n",
    "#ax = sns.barplot(x=\"Сервис\", data=top_count)"
   ]
  },
  {
   "cell_type": "code",
   "execution_count": 354,
   "id": "fa4b2850",
   "metadata": {},
   "outputs": [
    {
     "data": {
      "image/png": "[encoded data removed]",
      "text/plain": [
       "<Figure size 432x288 with 1 Axes>"
      ]
     },
     "metadata": {
      "needs_background": "light"
     },
     "output_type": "display_data"
    }
   ],
   "source": [
    "temp[temp['Тип обращения итоговый']=='Инцидент']['Сервис'].value_counts(dropna= False)[0:10].plot(kind='bar')\n",
    "plt.title('Проблемные сервисы')\n",
    "plt.ylabel('Обращений')\n",
    "plt.xlabel('Сервис')\n",
    "plt.show()"
   ]
  },
  {
   "cell_type": "code",
   "execution_count": 355,
   "id": "eb3018e2",
   "metadata": {},
   "outputs": [
    {
     "data": {
      "image/png": "[encoded data removed]",
      "text/plain": [
       "<Figure size 432x288 with 1 Axes>"
      ]
     },
     "metadata": {
      "needs_background": "light"
     },
     "output_type": "display_data"
    }
   ],
   "source": [
    "temp[temp['Тип обращения итоговый']=='Инцидент']['Система'].value_counts(dropna= False)[0:10].plot(kind='bar')\n",
    "plt.title('Проблемные системы')\n",
    "plt.ylabel('Обращений')\n",
    "plt.xlabel('Сервис')\n",
    "plt.show()"
   ]
  },
  {
   "cell_type": "code",
   "execution_count": 356,
   "id": "bb4bbcd5",
   "metadata": {},
   "outputs": [
    {
     "data": {
      "image/png": "[encoded data removed]",
      "text/plain": [
       "<Figure size 432x288 with 1 Axes>"
      ]
     },
     "metadata": {
      "needs_background": "light"
     },
     "output_type": "display_data"
    }
   ],
   "source": [
    "temp[temp['Тип обращения итоговый']=='Инцидент']['Место'].value_counts(dropna= False)[0:10].plot(kind='bar')\n",
    "plt.title('Проблемные места')\n",
    "plt.ylabel('Обращений')\n",
    "plt.xlabel('Место')\n",
    "plt.show()"
   ]
  },
  {
   "cell_type": "code",
   "execution_count": 357,
   "id": "c333f7b4",
   "metadata": {},
   "outputs": [
    {
     "data": {
      "image/png": "[encoded data removed]",
      "text/plain": [
       "<Figure size 432x288 with 1 Axes>"
      ]
     },
     "metadata": {
      "needs_background": "light"
     },
     "output_type": "display_data"
    }
   ],
   "source": [
    "temp[temp['Тип обращения итоговый']=='Инцидент']['Функциональная группа'].value_counts(dropna= False)[0:10].plot(kind='bar')\n",
    "plt.title('Проблемные функциональные группы')\n",
    "plt.ylabel('Обращений')\n",
    "plt.xlabel('Группа')\n",
    "plt.show()"
   ]
  },
  {
   "cell_type": "markdown",
   "id": "2e2e1948",
   "metadata": {},
   "source": [
    "Выявление аномальных записей"
   ]
  },
  {
   "cell_type": "code",
   "execution_count": 435,
   "id": "ede4d43a",
   "metadata": {},
   "outputs": [],
   "source": [
    "k=5\n",
    "algo=\"dbscan\"\n",
    "embeddings=np.asarray(train_concat)\n",
    "#embeddings=np.asarray(train[columns_name])\n",
    "kmeans_labels, kmeans_top_texts = clustering(k, algo, train, embeddings)\n",
    "train['label'] = kmeans_labels"
   ]
  },
  {
   "cell_type": "code",
   "execution_count": 436,
   "id": "d1266de9",
   "metadata": {},
   "outputs": [
    {
     "data": {
      "text/plain": [
       "-1       7829\n",
       " 416      112\n",
       " 203       69\n",
       " 1671      64\n",
       " 278       60\n",
       "         ... \n",
       " 849        2\n",
       " 848        2\n",
       " 847        2\n",
       " 846        2\n",
       " 1892       2\n",
       "Name: label, Length: 1894, dtype: int64"
      ]
     },
     "execution_count": 436,
     "metadata": {},
     "output_type": "execute_result"
    }
   ],
   "source": [
    "train['label'].value_counts()"
   ]
  },
  {
   "cell_type": "code",
   "execution_count": 437,
   "id": "9a2a15ba",
   "metadata": {},
   "outputs": [
    {
     "data": {
      "text/plain": [
       "0                                                тест тест\n",
       "1                                  тестовый обращение тест\n",
       "2        выполнить разблокировка з region выполнить раз...\n",
       "3                     включаться пк выход стоя бп замена н\n",
       "4                        заявка работа обращение выполнить\n",
       "                               ...                        \n",
       "14798      разблокировка учётный запись пользователь вс...\n",
       "14799    устранение уязвимость иб соответствие план вып...\n",
       "14800    контроль пу заявка доступ порт работа выполнит...\n",
       "14801                                ремонт стул выполнить\n",
       "14802    заявка предоставление отзыв право доступ ресур...\n",
       "Name: request, Length: 7829, dtype: object"
      ]
     },
     "execution_count": 437,
     "metadata": {},
     "output_type": "execute_result"
    }
   ],
   "source": [
    "train[train['label']==-1]['request']"
   ]
  },
  {
   "cell_type": "markdown",
   "id": "935e5dc2",
   "metadata": {},
   "source": [
    "### 3.1 Выделение причин нарушений"
   ]
  },
  {
   "cell_type": "markdown",
   "id": "bb52217a",
   "metadata": {},
   "source": [
    "Выделение ключевых фраз"
   ]
  },
  {
   "cell_type": "code",
   "execution_count": 341,
   "id": "1ff14a63",
   "metadata": {},
   "outputs": [
    {
     "data": {
      "text/html": [
       "<div>\n",
       "<style scoped>\n",
       "    .dataframe tbody tr th:only-of-type {\n",
       "        vertical-align: middle;\n",
       "    }\n",
       "\n",
       "    .dataframe tbody tr th {\n",
       "        vertical-align: top;\n",
       "    }\n",
       "\n",
       "    .dataframe thead th {\n",
       "        text-align: right;\n",
       "    }\n",
       "</style>\n",
       "<table border=\"1\" class=\"dataframe\">\n",
       "  <thead>\n",
       "    <tr style=\"text-align: right;\">\n",
       "      <th></th>\n",
       "      <th>Фраза</th>\n",
       "      <th>Иррелевантность</th>\n",
       "    </tr>\n",
       "  </thead>\n",
       "  <tbody>\n",
       "    <tr>\n",
       "      <th>0</th>\n",
       "      <td>ухудшение статус сервис</td>\n",
       "      <td>3.064133e-08</td>\n",
       "    </tr>\n",
       "    <tr>\n",
       "      <th>1</th>\n",
       "      <td>бот наблюдение система</td>\n",
       "      <td>4.446230e-08</td>\n",
       "    </tr>\n",
       "    <tr>\n",
       "      <th>2</th>\n",
       "      <td>сервис самовосстановление бот</td>\n",
       "      <td>1.698483e-07</td>\n",
       "    </tr>\n",
       "    <tr>\n",
       "      <th>3</th>\n",
       "      <td>произойти сбой регистрация</td>\n",
       "      <td>3.339967e-06</td>\n",
       "    </tr>\n",
       "    <tr>\n",
       "      <th>4</th>\n",
       "      <td>пользователь запрос отмен</td>\n",
       "      <td>3.924148e-06</td>\n",
       "    </tr>\n",
       "    <tr>\n",
       "      <th>5</th>\n",
       "      <td>инцидент инцидент инцидент</td>\n",
       "      <td>9.809245e-06</td>\n",
       "    </tr>\n",
       "    <tr>\n",
       "      <th>6</th>\n",
       "      <td>система загрузка идентификатор</td>\n",
       "      <td>2.462848e-05</td>\n",
       "    </tr>\n",
       "    <tr>\n",
       "      <th>7</th>\n",
       "      <td>зависнуть перезагрузить кнопка</td>\n",
       "      <td>2.572215e-05</td>\n",
       "    </tr>\n",
       "    <tr>\n",
       "      <th>8</th>\n",
       "      <td>статус выполняться заявка</td>\n",
       "      <td>2.774915e-05</td>\n",
       "    </tr>\n",
       "    <tr>\n",
       "      <th>9</th>\n",
       "      <td>необходимый чистить локальный</td>\n",
       "      <td>3.290571e-05</td>\n",
       "    </tr>\n",
       "  </tbody>\n",
       "</table>\n",
       "</div>"
      ],
      "text/plain": [
       "                            Фраза  Иррелевантность\n",
       "0         ухудшение статус сервис     3.064133e-08\n",
       "1          бот наблюдение система     4.446230e-08\n",
       "2   сервис самовосстановление бот     1.698483e-07\n",
       "3      произойти сбой регистрация     3.339967e-06\n",
       "4       пользователь запрос отмен     3.924148e-06\n",
       "5      инцидент инцидент инцидент     9.809245e-06\n",
       "6  система загрузка идентификатор     2.462848e-05\n",
       "7  зависнуть перезагрузить кнопка     2.572215e-05\n",
       "8       статус выполняться заявка     2.774915e-05\n",
       "9   необходимый чистить локальный     3.290571e-05"
      ]
     },
     "execution_count": 341,
     "metadata": {},
     "output_type": "execute_result"
    }
   ],
   "source": [
    "y = yake.KeywordExtractor(lan=\"ru\",          # язык\n",
    "                          n = 3,              # максимальное количество слов в фразе\n",
    "                          dedupLim = 0.2,     # порог похожести слов\n",
    "                          dedupFunc = 'seqm', #  deduplication algorithm\n",
    "                          windowsSize = 1,\n",
    "                          top = 10,           # количество ключевых слов\n",
    "                          features=None)           \n",
    "\n",
    "text = \" \".join(train[train['Тип обращения итоговый']==0]['request'])    \n",
    "keywords = y.extract_keywords(text)\n",
    "\n",
    "#чем ниже показатель, тем релевантнее фраза\n",
    "pd.DataFrame(keywords, columns=['Фраза', 'Иррелевантность'])"
   ]
  },
  {
   "cell_type": "markdown",
   "id": "8bf04311",
   "metadata": {},
   "source": [
    "Наиболее распространенные инциденты и их решение"
   ]
  },
  {
   "cell_type": "code",
   "execution_count": 302,
   "id": "6b50a2ac",
   "metadata": {},
   "outputs": [
    {
     "data": {
      "text/plain": [
       "<Бот-наблюдения> Система91. Ухудшение статуса сервиса.      46\n",
       "По обращению ************** произошел сбой регистрации      23\n",
       "<Бот-наблюдения> Система54. Ухудшение статуса сервиса.      21\n",
       "Не может работать один или несколько Пользователей (...     16\n",
       "Устранение ошибки                                           15\n",
       "Система20                                                    9\n",
       "<Бот-наблюдения> Система23. Ухудшение статуса сервиса.       9\n",
       "Сообщить об ошибке/неисправности Система18                   8\n",
       "*****************                                            6\n",
       "<Бот-наблюдения> Система11. Ухудшение статуса сервиса.       5\n",
       "Name: Содержание, dtype: int64"
      ]
     },
     "execution_count": 302,
     "metadata": {},
     "output_type": "execute_result"
    }
   ],
   "source": [
    "train[train['Тип обращения итоговый']==0]['Содержание'].value_counts(dropna= False)[0:10]"
   ]
  },
  {
   "cell_type": "code",
   "execution_count": 303,
   "id": "e99ec507",
   "metadata": {},
   "outputs": [
    {
     "data": {
      "text/plain": [
       "Самовосстановление                                                                                               67\n",
       "Запрос отменён пользователем из портала самообслуживания                                                         34\n",
       "По заявке ************* создан Инцидент №************                                                            10\n",
       "Заявка зависла в процессе согласования, выполнен перезапуск, успешно сформирован инцидент №******************     6\n",
       "самовосстановление                                                                                                6\n",
       "Гипервизор завис и был перезагружен с кнопки. Работа восстановлена.                                               6\n",
       "Выполнялась плановая проверка антивирусом                                                                         5\n",
       "Проблема решена установкой срочного патча  Система11 *******. Необходимо чистить локальный кэш браузера.          4\n",
       "Установлено/настроено прикладное и офисное ПО                                                                     4\n",
       "тест                                                                                                              3\n",
       "Name: Решение             , dtype: int64"
      ]
     },
     "execution_count": 303,
     "metadata": {},
     "output_type": "execute_result"
    }
   ],
   "source": [
    "train[train['Тип обращения итоговый']==0]['Решение             '].value_counts(dropna=False)[0:10]"
   ]
  },
  {
   "cell_type": "markdown",
   "id": "b359aee3",
   "metadata": {},
   "source": [
    "#### Можно сделать вывод, что основная причина инцидентов в задаче - ухудшение статуса сервиса. И решается она самовосстановлением или перезагрузкой\n",
    "\n",
    "\n",
    "![Способ решения проблем](problem.jpg)"
   ]
  },
  {
   "cell_type": "markdown",
   "id": "231259c3",
   "metadata": {},
   "source": [
    "### 3.2 Прогноз нарушений"
   ]
  },
  {
   "cell_type": "code",
   "execution_count": 403,
   "id": "44cd1175",
   "metadata": {},
   "outputs": [],
   "source": [
    "#инцидент 0, Запрос 1\n",
    "train['count']=1\n",
    "train['data']=train['Дата обращения'].dt.date\n",
    "temp = train[['data', 'count','delta_plan']].groupby('data').agg({'count': 'sum','delta_plan': 'median'}).reset_index()\n",
    "temp0 = train[train['Тип обращения итоговый']==0][['data', 'count','delta_plan']].groupby('data').agg({'count': 'sum','delta_plan': 'median'}).reset_index()\n",
    "temp1 = train[train['Тип обращения итоговый']==1][['data', 'count','delta_plan']].groupby('data').agg('sum').reset_index()"
   ]
  },
  {
   "cell_type": "code",
   "execution_count": 404,
   "id": "18504590",
   "metadata": {},
   "outputs": [
    {
     "data": {
      "image/png": "[encoded data removed]",
      "text/plain": [
       "<Figure size 864x432 with 1 Axes>"
      ]
     },
     "metadata": {
      "needs_background": "light"
     },
     "output_type": "display_data"
    }
   ],
   "source": [
    "fig, ax = plt.subplots(figsize=(12, 6))\n",
    "ax.plot(temp0['data'].to_numpy(), temp0['count'].to_numpy())\n",
    "ax.plot(temp1['data'].to_numpy(), temp1['count'].to_numpy())\n",
    "plt.title('Соотношение запросов и инцидентов')\n",
    "plt.ylabel('Обращений')\n",
    "plt.xlabel('Дата')\n",
    "plt.show()"
   ]
  },
  {
   "cell_type": "markdown",
   "id": "85fefb7b",
   "metadata": {},
   "source": [
    "Прогноз по инцидентам"
   ]
  },
  {
   "cell_type": "code",
   "execution_count": 197,
   "id": "14ee68b4",
   "metadata": {},
   "outputs": [
    {
     "data": {
      "text/html": [
       "<div>\n",
       "<style scoped>\n",
       "    .dataframe tbody tr th:only-of-type {\n",
       "        vertical-align: middle;\n",
       "    }\n",
       "\n",
       "    .dataframe tbody tr th {\n",
       "        vertical-align: top;\n",
       "    }\n",
       "\n",
       "    .dataframe thead th {\n",
       "        text-align: right;\n",
       "    }\n",
       "</style>\n",
       "<table border=\"1\" class=\"dataframe\">\n",
       "  <thead>\n",
       "    <tr style=\"text-align: right;\">\n",
       "      <th></th>\n",
       "      <th>ds</th>\n",
       "      <th>y</th>\n",
       "    </tr>\n",
       "  </thead>\n",
       "  <tbody>\n",
       "    <tr>\n",
       "      <th>0</th>\n",
       "      <td>2018-01-25</td>\n",
       "      <td>1</td>\n",
       "    </tr>\n",
       "    <tr>\n",
       "      <th>1</th>\n",
       "      <td>2018-01-26</td>\n",
       "      <td>9</td>\n",
       "    </tr>\n",
       "    <tr>\n",
       "      <th>2</th>\n",
       "      <td>2018-01-27</td>\n",
       "      <td>25</td>\n",
       "    </tr>\n",
       "    <tr>\n",
       "      <th>3</th>\n",
       "      <td>2018-01-28</td>\n",
       "      <td>21</td>\n",
       "    </tr>\n",
       "    <tr>\n",
       "      <th>4</th>\n",
       "      <td>2018-01-29</td>\n",
       "      <td>20</td>\n",
       "    </tr>\n",
       "  </tbody>\n",
       "</table>\n",
       "</div>"
      ],
      "text/plain": [
       "           ds   y\n",
       "0  2018-01-25   1\n",
       "1  2018-01-26   9\n",
       "2  2018-01-27  25\n",
       "3  2018-01-28  21\n",
       "4  2018-01-29  20"
      ]
     },
     "execution_count": 197,
     "metadata": {},
     "output_type": "execute_result"
    }
   ],
   "source": [
    "#Создаем пустой датафрейм\n",
    "df_time = pd.DataFrame({'ds': temp0['data'], \n",
    "                        'y': temp0['count']})\n",
    "#df_time['delta_plan'] = temp0['delta_plan']\n",
    "df_time.head()"
   ]
  },
  {
   "cell_type": "code",
   "execution_count": 201,
   "id": "236f5306",
   "metadata": {},
   "outputs": [
    {
     "name": "stderr",
     "output_type": "stream",
     "text": [
      "09:25:12 - cmdstanpy - INFO - Chain [1] start processing\n",
      "09:25:12 - cmdstanpy - INFO - Chain [1] done processing\n"
     ]
    },
    {
     "data": {
      "text/plain": [
       "<prophet.forecaster.Prophet at 0x7f15fefa6ac0>"
      ]
     },
     "execution_count": 201,
     "metadata": {},
     "output_type": "execute_result"
    }
   ],
   "source": [
    "model = Prophet(yearly_seasonality=False, weekly_seasonality=True, changepoint_prior_scale=0.1)\n",
    "#model.add_seasonality(name='monthly', period=30.5, fourier_order=5)\n",
    "#model.add_regressor('delta_plan')\n",
    "model.fit(df_time)"
   ]
  },
  {
   "cell_type": "code",
   "execution_count": 202,
   "id": "26f480db",
   "metadata": {},
   "outputs": [
    {
     "data": {
      "text/html": [
       "<div>\n",
       "<style scoped>\n",
       "    .dataframe tbody tr th:only-of-type {\n",
       "        vertical-align: middle;\n",
       "    }\n",
       "\n",
       "    .dataframe tbody tr th {\n",
       "        vertical-align: top;\n",
       "    }\n",
       "\n",
       "    .dataframe thead th {\n",
       "        text-align: right;\n",
       "    }\n",
       "</style>\n",
       "<table border=\"1\" class=\"dataframe\">\n",
       "  <thead>\n",
       "    <tr style=\"text-align: right;\">\n",
       "      <th></th>\n",
       "      <th>ds</th>\n",
       "      <th>yhat</th>\n",
       "      <th>yhat_lower</th>\n",
       "      <th>yhat_upper</th>\n",
       "    </tr>\n",
       "  </thead>\n",
       "  <tbody>\n",
       "    <tr>\n",
       "      <th>47</th>\n",
       "      <td>2018-03-14</td>\n",
       "      <td>36.250108</td>\n",
       "      <td>27.703649</td>\n",
       "      <td>45.342429</td>\n",
       "    </tr>\n",
       "    <tr>\n",
       "      <th>48</th>\n",
       "      <td>2018-03-15</td>\n",
       "      <td>30.625554</td>\n",
       "      <td>21.557994</td>\n",
       "      <td>38.996221</td>\n",
       "    </tr>\n",
       "    <tr>\n",
       "      <th>49</th>\n",
       "      <td>2018-03-16</td>\n",
       "      <td>29.874870</td>\n",
       "      <td>20.638963</td>\n",
       "      <td>39.013673</td>\n",
       "    </tr>\n",
       "    <tr>\n",
       "      <th>50</th>\n",
       "      <td>2018-03-17</td>\n",
       "      <td>36.168158</td>\n",
       "      <td>27.367837</td>\n",
       "      <td>45.101547</td>\n",
       "    </tr>\n",
       "    <tr>\n",
       "      <th>51</th>\n",
       "      <td>2018-03-18</td>\n",
       "      <td>37.167903</td>\n",
       "      <td>28.087333</td>\n",
       "      <td>46.053219</td>\n",
       "    </tr>\n",
       "  </tbody>\n",
       "</table>\n",
       "</div>"
      ],
      "text/plain": [
       "           ds       yhat  yhat_lower  yhat_upper\n",
       "47 2018-03-14  36.250108   27.703649   45.342429\n",
       "48 2018-03-15  30.625554   21.557994   38.996221\n",
       "49 2018-03-16  29.874870   20.638963   39.013673\n",
       "50 2018-03-17  36.168158   27.367837   45.101547\n",
       "51 2018-03-18  37.167903   28.087333   46.053219"
      ]
     },
     "execution_count": 202,
     "metadata": {},
     "output_type": "execute_result"
    }
   ],
   "source": [
    "future = model.make_future_dataframe(periods=30)\n",
    "#future['delta_plan'] = 2\n",
    "forecast = model.predict(future)\n",
    "forecast[['ds', 'yhat', 'yhat_lower', 'yhat_upper']].tail()"
   ]
  },
  {
   "cell_type": "code",
   "execution_count": 411,
   "id": "53225f89",
   "metadata": {},
   "outputs": [
    {
     "data": {
      "image/png": "[encoded data removed]",
      "text/plain": [
       "<Figure size 720x432 with 1 Axes>"
      ]
     },
     "metadata": {},
     "output_type": "display_data"
    }
   ],
   "source": [
    "fig1 = model.plot(forecast)\n",
    "plt.title('Прогноз инцидентов')\n",
    "plt.ylabel('Инцидентов')\n",
    "plt.xlabel('Дата')\n",
    "plt.show()"
   ]
  },
  {
   "cell_type": "markdown",
   "id": "a0bb1dd9",
   "metadata": {},
   "source": [
    "Прогноз по всем обращениям"
   ]
  },
  {
   "cell_type": "code",
   "execution_count": 406,
   "id": "4859fd98",
   "metadata": {},
   "outputs": [
    {
     "data": {
      "text/html": [
       "<div>\n",
       "<style scoped>\n",
       "    .dataframe tbody tr th:only-of-type {\n",
       "        vertical-align: middle;\n",
       "    }\n",
       "\n",
       "    .dataframe tbody tr th {\n",
       "        vertical-align: top;\n",
       "    }\n",
       "\n",
       "    .dataframe thead th {\n",
       "        text-align: right;\n",
       "    }\n",
       "</style>\n",
       "<table border=\"1\" class=\"dataframe\">\n",
       "  <thead>\n",
       "    <tr style=\"text-align: right;\">\n",
       "      <th></th>\n",
       "      <th>ds</th>\n",
       "      <th>y</th>\n",
       "    </tr>\n",
       "  </thead>\n",
       "  <tbody>\n",
       "    <tr>\n",
       "      <th>0</th>\n",
       "      <td>2018-01-19</td>\n",
       "      <td>2</td>\n",
       "    </tr>\n",
       "    <tr>\n",
       "      <th>1</th>\n",
       "      <td>2018-01-25</td>\n",
       "      <td>11</td>\n",
       "    </tr>\n",
       "    <tr>\n",
       "      <th>2</th>\n",
       "      <td>2018-01-26</td>\n",
       "      <td>883</td>\n",
       "    </tr>\n",
       "    <tr>\n",
       "      <th>3</th>\n",
       "      <td>2018-01-27</td>\n",
       "      <td>1001</td>\n",
       "    </tr>\n",
       "    <tr>\n",
       "      <th>4</th>\n",
       "      <td>2018-01-28</td>\n",
       "      <td>1002</td>\n",
       "    </tr>\n",
       "  </tbody>\n",
       "</table>\n",
       "</div>"
      ],
      "text/plain": [
       "           ds     y\n",
       "0  2018-01-19     2\n",
       "1  2018-01-25    11\n",
       "2  2018-01-26   883\n",
       "3  2018-01-27  1001\n",
       "4  2018-01-28  1002"
      ]
     },
     "execution_count": 406,
     "metadata": {},
     "output_type": "execute_result"
    }
   ],
   "source": [
    "#Создаем пустой датафрейм\n",
    "df_time = pd.DataFrame({'ds': temp['data'], \n",
    "                        'y': temp['count']})\n",
    "#df_time['delta_plan'] = temp0['delta_plan']\n",
    "df_time.head()"
   ]
  },
  {
   "cell_type": "code",
   "execution_count": 407,
   "id": "37db4c72",
   "metadata": {},
   "outputs": [
    {
     "name": "stderr",
     "output_type": "stream",
     "text": [
      "11:14:20 - cmdstanpy - INFO - Chain [1] start processing\n",
      "11:14:20 - cmdstanpy - INFO - Chain [1] done processing\n"
     ]
    },
    {
     "data": {
      "text/plain": [
       "<prophet.forecaster.Prophet at 0x7f17c52aa3a0>"
      ]
     },
     "execution_count": 407,
     "metadata": {},
     "output_type": "execute_result"
    }
   ],
   "source": [
    "model = Prophet(yearly_seasonality=False, weekly_seasonality=True, changepoint_prior_scale=0.5)\n",
    "#model.add_seasonality(name='monthly', period=30.5, fourier_order=5)\n",
    "#model.add_regressor('delta_plan')\n",
    "model.fit(df_time)"
   ]
  },
  {
   "cell_type": "code",
   "execution_count": 408,
   "id": "44af6982",
   "metadata": {},
   "outputs": [
    {
     "data": {
      "text/html": [
       "<div>\n",
       "<style scoped>\n",
       "    .dataframe tbody tr th:only-of-type {\n",
       "        vertical-align: middle;\n",
       "    }\n",
       "\n",
       "    .dataframe tbody tr th {\n",
       "        vertical-align: top;\n",
       "    }\n",
       "\n",
       "    .dataframe thead th {\n",
       "        text-align: right;\n",
       "    }\n",
       "</style>\n",
       "<table border=\"1\" class=\"dataframe\">\n",
       "  <thead>\n",
       "    <tr style=\"text-align: right;\">\n",
       "      <th></th>\n",
       "      <th>ds</th>\n",
       "      <th>yhat</th>\n",
       "      <th>yhat_lower</th>\n",
       "      <th>yhat_upper</th>\n",
       "    </tr>\n",
       "  </thead>\n",
       "  <tbody>\n",
       "    <tr>\n",
       "      <th>49</th>\n",
       "      <td>2018-03-14</td>\n",
       "      <td>347.438969</td>\n",
       "      <td>-372.287874</td>\n",
       "      <td>1034.513992</td>\n",
       "    </tr>\n",
       "    <tr>\n",
       "      <th>50</th>\n",
       "      <td>2018-03-15</td>\n",
       "      <td>285.184954</td>\n",
       "      <td>-478.821545</td>\n",
       "      <td>1045.517484</td>\n",
       "    </tr>\n",
       "    <tr>\n",
       "      <th>51</th>\n",
       "      <td>2018-03-16</td>\n",
       "      <td>443.484870</td>\n",
       "      <td>-343.940679</td>\n",
       "      <td>1224.264215</td>\n",
       "    </tr>\n",
       "    <tr>\n",
       "      <th>52</th>\n",
       "      <td>2018-03-17</td>\n",
       "      <td>403.868108</td>\n",
       "      <td>-407.087712</td>\n",
       "      <td>1237.919204</td>\n",
       "    </tr>\n",
       "    <tr>\n",
       "      <th>53</th>\n",
       "      <td>2018-03-18</td>\n",
       "      <td>398.765164</td>\n",
       "      <td>-447.607116</td>\n",
       "      <td>1242.939456</td>\n",
       "    </tr>\n",
       "  </tbody>\n",
       "</table>\n",
       "</div>"
      ],
      "text/plain": [
       "           ds        yhat  yhat_lower   yhat_upper\n",
       "49 2018-03-14  347.438969 -372.287874  1034.513992\n",
       "50 2018-03-15  285.184954 -478.821545  1045.517484\n",
       "51 2018-03-16  443.484870 -343.940679  1224.264215\n",
       "52 2018-03-17  403.868108 -407.087712  1237.919204\n",
       "53 2018-03-18  398.765164 -447.607116  1242.939456"
      ]
     },
     "execution_count": 408,
     "metadata": {},
     "output_type": "execute_result"
    }
   ],
   "source": [
    "future = model.make_future_dataframe(periods=30)\n",
    "#future['delta_plan'] = 2\n",
    "forecast = model.predict(future)\n",
    "forecast[['ds', 'yhat', 'yhat_lower', 'yhat_upper']].tail()"
   ]
  },
  {
   "cell_type": "code",
   "execution_count": 410,
   "id": "ca0afb1e",
   "metadata": {},
   "outputs": [
    {
     "data": {
      "image/png": "[encoded data removed]",
      "text/plain": [
       "<Figure size 720x432 with 1 Axes>"
      ]
     },
     "metadata": {},
     "output_type": "display_data"
    }
   ],
   "source": [
    "fig1 = model.plot(forecast)\n",
    "plt.title('Прогноз обращений')\n",
    "plt.ylabel('Обращений')\n",
    "plt.xlabel('Дата')\n",
    "plt.show()"
   ]
  },
  {
   "cell_type": "code",
   "execution_count": null,
   "id": "1cfc91ac",
   "metadata": {},
   "outputs": [],
   "source": []
  }
 ],
 "metadata": {
  "kernelspec": {
   "display_name": "Python 3",
   "language": "python",
   "name": "python3"
  },
  "language_info": {
   "codemirror_mode": {
    "name": "ipython",
    "version": 3
   },
   "file_extension": ".py",
   "mimetype": "text/x-python",
   "name": "python",
   "nbconvert_exporter": "python",
   "pygments_lexer": "ipython3",
   "version": "3.9.12"
  }
 },
 "nbformat": 4,
 "nbformat_minor": 5
}
